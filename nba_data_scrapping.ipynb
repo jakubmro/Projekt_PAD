{
 "cells": [
  {
   "cell_type": "markdown",
   "id": "99c1b892",
   "metadata": {},
   "source": [
    "Zebranie wszystkich graczy z ostatnich 20 lat, przy uzyciu nba_api (dok. https://github.com/swar/nba_api)"
   ]
  },
  {
   "cell_type": "code",
   "execution_count": 5,
   "id": "e6129889",
   "metadata": {},
   "outputs": [],
   "source": [
    "import time\n",
    "import pandas as pd\n",
    "import re\n",
    "import requests\n",
    "from bs4 import BeautifulSoup\n",
    "from nba_api.stats.endpoints import commonallplayers #informacja o graczach\n",
    "from nba_api.stats.endpoints import playergamelogs #informacja o grach"
   ]
  },
  {
   "cell_type": "code",
   "execution_count": 14,
   "id": "cf42c6ae",
   "metadata": {},
   "outputs": [],
   "source": [
    "all_player_data = commonallplayers.CommonAllPlayers().get_data_frames()[0]\n",
    "\n",
    "filtered_players = all_player_data[all_player_data['TO_YEAR'].apply(lambda x: int(x)) > 2003]"
   ]
  },
  {
   "cell_type": "code",
   "execution_count": 15,
   "id": "f3ff0b5c",
   "metadata": {},
   "outputs": [],
   "source": [
    "filtered_players.to_csv('players.csv') #zapis pliku odbywa się w miejscu przechowywania kodu. Prośba o zapisanie kodu na dysku przed uruchomieniem"
   ]
  },
  {
   "cell_type": "markdown",
   "id": "657c2e98",
   "metadata": {},
   "source": [
    "Zebranie danych statystycznych z kazdego meczu rozegranego przez zawodnikow z ostatnich 20 lat (przy pomocy wyzej wymienionego nba_api). \n",
    "\n",
    "!!!Przed runem ostrzegam, że lepiej nie duplikować ćwiczenia. Samo API potrafi wielokrotnie odrzucać połączenie lub zrywać je w niespodziewany sposób. Czas ciągniecia danych potrafił przekroczyć 30h w jednym przypadku, a 6h w drugim. W paczce załączone być pliki CSV z wyciągniętymi danymi."
   ]
  },
  {
   "cell_type": "code",
   "execution_count": null,
   "id": "db654b07",
   "metadata": {},
   "outputs": [],
   "source": [
    "all_player_game_logs = []\n",
    "\n",
    "for index, player_info in filtered_players.iterrows():\n",
    "    player_id = player_info['PERSON_ID']\n",
    "    player_name = player_info['DISPLAY_FIRST_LAST']\n",
    "    \n",
    "    print(f\"Collecting player game logs for {player_name}...\")\n",
    "    \n",
    "    for season_id in ['2022-23', '2021-22', '2020-21', '2019-20', '2018-19', '2017-18', '2016-17', '2015-16', '2014-15', '2013-14', '2012-13', '2011-12', '2010-11', '2009-10', '2008-09', '2007-08', '2006-07', '2005-06', '2004-05', '2003-04']:  \n",
    "        while True:\n",
    "            try:\n",
    "                player_logs = playergamelogs.PlayerGameLogs(player_id_nullable=player_id, season_nullable=season_id).get_data_frames()[0]\n",
    "                break \n",
    "            except Exception as e:\n",
    "                print(f\"An error occurred: {str(e)}. Retrying in 5 seconds...\")\n",
    "                time.sleep(5) \n",
    "        \n",
    "        all_player_game_logs.append((player_name, player_logs))\n",
    "\n",
    "result_df = pd.concat([log[1] for log in all_player_game_logs], ignore_index=True)\n"
   ]
  },
  {
   "cell_type": "code",
   "execution_count": 3,
   "id": "1c9cbf2f",
   "metadata": {},
   "outputs": [],
   "source": [
    "result_df.to_csv('stats.csv')"
   ]
  },
  {
   "cell_type": "markdown",
   "id": "3135291f",
   "metadata": {},
   "source": [
    "Zebranie danych dot. playoffów dla wszystkich zawodników z ostatnich 20 lat (przy pomocy wyzej wymienionego nba_api)."
   ]
  },
  {
   "cell_type": "code",
   "execution_count": null,
   "id": "d15520a0",
   "metadata": {},
   "outputs": [],
   "source": [
    "# Pobranie player game logs dla każdego gracza z filtered_players\n",
    "all_player_game_logs = []\n",
    "\n",
    "for index, player_info in filtered_players.iterrows():\n",
    "    player_id = player_info['PERSON_ID']\n",
    "    player_name = player_info['DISPLAY_FIRST_LAST']\n",
    "    \n",
    "    # Pobranie player game logs dla danego gracza\n",
    "    print(f\"Collecting player game logs for {player_name}...\")\n",
    "    \n",
    "    # Zmiana zakresu sezonów\n",
    "    for season_id in ['2022-23', '2021-22', '2020-21', '2019-20', '2018-19', '2017-18', '2016-17', '2015-16', '2014-15', '2013-14', '2012-13', '2011-12', '2010-11', '2009-10', '2008-09', '2007-08', '2006-07', '2005-06', '2004-05', '2003-04']:  # Dodaj sezon_id zgodnie z Twoimi potrzebami\n",
    "        while True:\n",
    "            try:\n",
    "                player_logs = playergamelogs.PlayerGameLogs(player_id_nullable=player_id, season_nullable=season_id, season_type_nullable='Playoffs').get_data_frames()[0]\n",
    "                break  # Przerwij pętlę, jeśli pomyślnie pobrano dane\n",
    "            except Exception as e:\n",
    "                if 'resultSet' in str(e): \n",
    "                    break\n",
    "                else:\n",
    "                    print(f\"An error occurred: {str(e)}. Retrying in 5 seconds...\")\n",
    "                    time.sleep(5)  # Poczekaj 5 sekund przed ponowną próbą\n",
    "        \n",
    "        # Dodanie danych gracza do listy\n",
    "        all_player_game_logs.append((player_name, player_logs))\n",
    "\n",
    "# Konwersja listy do jednego DataFrame\n",
    "result_df1 = pd.concat([log[1] for log in all_player_game_logs], ignore_index=True)"
   ]
  },
  {
   "cell_type": "code",
   "execution_count": null,
   "id": "b32e3c63",
   "metadata": {},
   "outputs": [],
   "source": [
    "result_df1.to_csv('stats_playoffs.csv')"
   ]
  },
  {
   "cell_type": "markdown",
   "id": "2691e169",
   "metadata": {},
   "source": [
    "Zebranie danych dot. kontuzji zawodników z ostatnich 20 lat (przy pomocy scrappera: https://github.com/gboogy/nba-injury-data-scraper)"
   ]
  },
  {
   "cell_type": "code",
   "execution_count": null,
   "id": "f4951186",
   "metadata": {},
   "outputs": [],
   "source": [
    "\"\"\"\n",
    "Descripiton:\n",
    "    This script is a webscraper for injury data from the Pro Sports Transaction website\n",
    "Written by:\n",
    "    G-R-H\n",
    "\"\"\"\n",
    "\n",
    "def replace_all(text, dic):\n",
    "    '''\n",
    "    This function will replace characters in text given a dictionary of characters to seach for and replace\n",
    "    '''\n",
    "    rc = re.compile('|'.join(map(re.escape, dic)))\n",
    "\n",
    "    def translate(match):\n",
    "        return dic[match.group(0)]\n",
    "    return rc.sub(translate, text)\n",
    "\n",
    "\n",
    "# Dictionary of characters to remove from text\n",
    "char_replace = {' • ': ''}\n",
    "\n",
    "# Create list of records read from webscrapper\n",
    "list_of_rows = []\n",
    "\n",
    "# Loop through webpage table, scrap data, and store lists\n",
    "for i in range(0, 53850, 25):\n",
    "    url = 'https://www.prosportstransactions.com/basketball/Search/SearchResults.php?Player=&Team=&BeginDate=2003-10-01&EndDate=&ILChkBx=yes&InjuriesChkBx=yes&Submit=Search&start={}'.format(i)\n",
    "    response = requests.get(url)\n",
    "    html = response.content\n",
    "\n",
    "    soup = BeautifulSoup(html, 'lxml')\n",
    "\n",
    "    table = soup.find('table', attrs={'class': 'datatable center'})\n",
    "\n",
    "    for row in table.findAll('tr', attrs={'align': 'left'}):\n",
    "        list_of_cells = []\n",
    "\n",
    "        for cell in row.findAll('td'):\n",
    "            text = replace_all(cell.text, char_replace)\n",
    "            text = text.strip()\n",
    "            list_of_cells.append(text)\n",
    "        list_of_rows.append(list_of_cells)\n",
    "\n",
    "# Store data in a dataframe for manipulation\n",
    "injuries_df = pd.DataFrame(list_of_rows, columns=[\n",
    "                           'Date', 'Team', 'Acquired', 'Relinquished', 'Notes'])\n",
    "\n",
    "acq = injuries_df['Acquired']\n",
    "rel = injuries_df['Relinquished']\n",
    "\n",
    "# Remove instances where value is like \"Name 1/ Name 2\"\n",
    "injuries_df['Acquired'] = np.where(\n",
    "    acq.str.contains('/'), acq.str.split('/ ').str[1], acq)\n",
    "injuries_df['Relinquished'] = np.where(\n",
    "    rel.str.contains('/'), rel.str.split('/ ').str[1], rel)\n",
    "\n",
    "# Remove instances where value is like \"(some text)\"\n",
    "injuries_df['Acquired'] = injuries_df.Acquired.str.replace(\n",
    "    r\"[\\(\\[].*?[\\)\\]]\", \"\")\n",
    "injuries_df['Relinquished'] = injuries_df.Relinquished.str.replace(\n",
    "    r\"[\\(\\[].*?[\\)\\]]\", \"\")\n",
    "\n",
    "# Write contents to csv file\n",
    "injuries_df.to_csv('injuries.csv', index=False)"
   ]
  },
  {
   "cell_type": "markdown",
   "id": "52a49046",
   "metadata": {},
   "source": [
    "Dane dot. kontraktów pobrane ze strony espn.com. "
   ]
  },
  {
   "cell_type": "markdown",
   "id": "8d8a2da0",
   "metadata": {},
   "source": [
    "Zebranie danych z commonplayersinfo na temat wzrostu zawodnika itp."
   ]
  },
  {
   "cell_type": "code",
   "execution_count": null,
   "id": "78ba82ef",
   "metadata": {},
   "outputs": [],
   "source": [
    "all_player_info = []\n",
    "\n",
    "for index, player_info in filtered_players.iterrows():\n",
    "    player_id = player_info['PERSON_ID']\n",
    "    player_name = player_info['DISPLAY_FIRST_LAST']\n",
    "    \n",
    "    print(f\"Collecting player info for {player_name}...\")\n",
    "    \n",
    "    while True:\n",
    "        try:\n",
    "            player_info_data = commonplayerinfo.CommonPlayerInfo(player_id=player_id).get_data_frames()[0]\n",
    "            break\n",
    "        except Exception as e:\n",
    "            print(f\"An error occurred while fetching player info: {str(e)}. Retrying in 5 seconds...\")\n",
    "            time.sleep(5) \n",
    "    \n",
    "    all_player_info.append(player_info_data)\n",
    "\n",
    "# Concatenate all player info into one DataFrame\n",
    "result_df = pd.concat(all_player_info, ignore_index=True)\n"
   ]
  },
  {
   "cell_type": "code",
   "execution_count": null,
   "id": "881a63a0",
   "metadata": {},
   "outputs": [],
   "source": [
    "result_df.to_csv('playersinfo.csv')"
   ]
  }
 ],
 "metadata": {
  "kernelspec": {
   "display_name": "Python 3",
   "language": "python",
   "name": "python3"
  },
  "language_info": {
   "codemirror_mode": {
    "name": "ipython",
    "version": 3
   },
   "file_extension": ".py",
   "mimetype": "text/x-python",
   "name": "python",
   "nbconvert_exporter": "python",
   "pygments_lexer": "ipython3",
   "version": "3.11.9"
  }
 },
 "nbformat": 4,
 "nbformat_minor": 5
}
